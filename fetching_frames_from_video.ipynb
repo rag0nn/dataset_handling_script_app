{
 "cells": [
  {
   "cell_type": "markdown",
   "id": "520ce0dc",
   "metadata": {},
   "source": [
    "<p>video_path'i doldurup hücreleri direkt çalıştırmak yeterli</p> \n",
    "<li>örnek:\" ./abacus/example_video.mp4\"</li>\n",
    "<p>k tuşu ile gösterilen frame kaydedilebilir.</p>\n",
    "<p>videonun yanında otomatik \"fetched\" klasörü oluşturulacak ve frameler orada toplanacak</p>"
   ]
  },
  {
   "cell_type": "code",
   "execution_count": 55,
   "id": "c90054c8",
   "metadata": {},
   "outputs": [],
   "source": [
    "video_path = \"./SpirAl/verisetleri/ornek_videolar/TUYZ_2021_Ornek_Veri_Seti/TUYZ_2021_Ornek_Video.mp4\"\n"
   ]
  },
  {
   "cell_type": "code",
   "execution_count": 56,
   "id": "536dab50",
   "metadata": {},
   "outputs": [],
   "source": [
    "import cv2\n",
    "import numpy as np\n",
    "from tqdm import tqdm\n",
    "import os"
   ]
  },
  {
   "cell_type": "code",
   "execution_count": 57,
   "id": "53c17277",
   "metadata": {},
   "outputs": [],
   "source": [
    "def path_sequence(root,*directories):\n",
    "    seq = root\n",
    "    for directory in directories:\n",
    "        seq += f\"/{directory}\"\n",
    "    return seq"
   ]
  },
  {
   "cell_type": "code",
   "execution_count": 58,
   "id": "1e371ca5",
   "metadata": {},
   "outputs": [
    {
     "name": "stdout",
     "output_type": "stream",
     "text": [
      "./SpirAl/verisetleri/ornek_videolar/TUYZ_2021_Ornek_Veri_Seti\n",
      "TUYZ_2021_Ornek_Video\n"
     ]
    }
   ],
   "source": [
    "\n",
    "file_path = video_path.split(\"/\")\n",
    "\n",
    "vid_name = file_path[-1][:-4]\n",
    "\n",
    "\n",
    "file_path = \"/\".join(file_path[:-1])\n",
    "\n",
    "print(file_path)\n",
    "print(vid_name)"
   ]
  },
  {
   "cell_type": "code",
   "execution_count": 59,
   "id": "cc9b45d2",
   "metadata": {},
   "outputs": [
    {
     "name": "stdout",
     "output_type": "stream",
     "text": [
      "Dosya Oluşturuldu :  ./SpirAl/verisetleri/ornek_videolar/TUYZ_2021_Ornek_Veri_Seti/fetched_TUYZ_2021_Ornek_Video\n"
     ]
    }
   ],
   "source": [
    "if os.path.exists(f\"{file_path}/fetched_{vid_name}\") == False:\n",
    "    os.mkdir(f\"{file_path}/fetched_{vid_name}\")\n",
    "    print(\"Dosya Oluşturuldu : \",f\"{file_path}/fetched_{vid_name}\")\n",
    "else:\n",
    "    print(\"!!! Böyle bir dosya zaten oluşturulmuş !!!\")"
   ]
  },
  {
   "cell_type": "code",
   "execution_count": 60,
   "id": "21e194fd",
   "metadata": {},
   "outputs": [],
   "source": [
    "# ekran boyutlarını al\n",
    "import tkinter as tk\n",
    "root = tk.Tk()\n",
    "\n",
    "screen_width = root.winfo_screenwidth()\n",
    "screen_height = root.winfo_screenheight()\n",
    "\n",
    "window_width = int(screen_width*0.8)\n",
    "window_height = int(screen_height*0.8)"
   ]
  },
  {
   "cell_type": "code",
   "execution_count": 65,
   "id": "66ab3664",
   "metadata": {},
   "outputs": [
    {
     "ename": "KeyboardInterrupt",
     "evalue": "",
     "output_type": "error",
     "traceback": [
      "\u001b[1;31m---------------------------------------------------------------------------\u001b[0m",
      "\u001b[1;31mKeyboardInterrupt\u001b[0m                         Traceback (most recent call last)",
      "Cell \u001b[1;32mIn[65], line 19\u001b[0m\n\u001b[0;32m     16\u001b[0m \u001b[38;5;28;01melse\u001b[39;00m:\n\u001b[0;32m     17\u001b[0m     \u001b[38;5;28;01mbreak\u001b[39;00m\n\u001b[1;32m---> 19\u001b[0m \u001b[43mcv2\u001b[49m\u001b[38;5;241;43m.\u001b[39;49m\u001b[43mwaitKey\u001b[49m\u001b[43m(\u001b[49m\u001b[38;5;241;43m15\u001b[39;49m\u001b[43m)\u001b[49m\n\u001b[0;32m     20\u001b[0m \u001b[38;5;28;01mif\u001b[39;00m \u001b[38;5;241m0xFF\u001b[39m \u001b[38;5;241m==\u001b[39m\u001b[38;5;28mord\u001b[39m(\u001b[38;5;124m\"\u001b[39m\u001b[38;5;124mq\u001b[39m\u001b[38;5;124m\"\u001b[39m):\n\u001b[0;32m     21\u001b[0m     \u001b[38;5;28mprint\u001b[39m(\u001b[38;5;124m\"\u001b[39m\u001b[38;5;124mq\u001b[39m\u001b[38;5;124m\"\u001b[39m)\n",
      "\u001b[1;31mKeyboardInterrupt\u001b[0m: "
     ]
    }
   ],
   "source": [
    "cap = cv2.VideoCapture(video_path)\n",
    "\n",
    "window_name = vid_name\n",
    "\n",
    "frame_counter = 0\n",
    "saved_counter = 0\n",
    "while True:\n",
    "    ret,frame = cap.read()\n",
    "    \n",
    "    if ret == True:\n",
    "        cv2.namedWindow(window_name)\n",
    "        cv2.moveWindow(window_name,20,20)\n",
    "        _frame = cv2.resize(frame,(window_width,window_height))\n",
    "        cv2.putText(_frame,f\"k: kaydet {saved_counter}\",(20,window_height-20),cv2.FONT_HERSHEY_DUPLEX,0.8,(255,255,255))\n",
    "        cv2.imshow(window_name,_frame)\n",
    "    else:\n",
    "        break\n",
    "     \n",
    "    if cv2.waitKey(26) & 0xFF == ord('k'):\n",
    "        cv2.imwrite(f\"{file_path}/fetched_{vid_name}/{vid_name}_{saved_counter}.jpg\",frame)\n",
    "        print(\"kaydedildi \",\"frame indeksi: \",frame_counter,\"kaydetme indeksi: \",saved_counter)\n",
    "        saved_counter+=1\n",
    "        \n",
    "    if cv2.waitKey(4) & 0xFF == ord('q'):\n",
    "        break\n",
    "    \n",
    "    frame_counter += 1\n",
    "    \n",
    "cap.release()\n",
    "cv2.destroyAllWindows()\n",
    "\n",
    "print(\"toplam \",saved_counter, \"adet görüntü kaydedildi\")"
   ]
  },
  {
   "cell_type": "code",
   "execution_count": null,
   "id": "403f0325",
   "metadata": {},
   "outputs": [],
   "source": []
  }
 ],
 "metadata": {
  "kernelspec": {
   "display_name": "Python 3 (ipykernel)",
   "language": "python",
   "name": "python3"
  },
  "language_info": {
   "codemirror_mode": {
    "name": "ipython",
    "version": 3
   },
   "file_extension": ".py",
   "mimetype": "text/x-python",
   "name": "python",
   "nbconvert_exporter": "python",
   "pygments_lexer": "ipython3",
   "version": "3.9.16"
  }
 },
 "nbformat": 4,
 "nbformat_minor": 5
}
