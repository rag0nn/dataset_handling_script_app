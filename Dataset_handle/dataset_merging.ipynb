{
 "cells": [
  {
   "cell_type": "code",
   "execution_count": 1,
   "id": "f0d8ea70",
   "metadata": {},
   "outputs": [],
   "source": [
    "import cv2\n",
    "import numpy as np\n",
    "import os\n",
    "from tqdm import tqdm\n",
    "from IPython.display import clear_output\n",
    "import random\n",
    "from sklearn.utils import shuffle\n",
    "from sklearn.model_selection import train_test_split\n",
    "import shutil\n",
    "import yaml"
   ]
  },
  {
   "cell_type": "code",
   "execution_count": 2,
   "id": "f8ebdc1f",
   "metadata": {},
   "outputs": [],
   "source": [
    "from spiral_tools.utils import path_sequence"
   ]
  },
  {
   "cell_type": "markdown",
   "id": "ece0faea",
   "metadata": {},
   "source": [
    "####  yaml dosyası formatı"
   ]
  },
  {
   "cell_type": "markdown",
   "id": "dbce1686",
   "metadata": {},
   "source": [
    "train: images/train\n",
    "val: images/val\n",
    "test: images/test\n",
    "\n",
    "names:\n",
    "  0: class_one\n",
    "  1: class_two\n",
    "  2: class_three"
   ]
  },
  {
   "cell_type": "code",
   "execution_count": 3,
   "id": "0564ef33",
   "metadata": {},
   "outputs": [],
   "source": [
    "def split_dataset(image_file_list,label_file_list,test_size=0.1,val_size=0.1):\n",
    "    X_train, X_test, y_train, y_test = train_test_split(image_file_list, label_file_list, test_size=test_size, random_state=42)\n",
    "    X_train, X_val, y_train, y_val = train_test_split(X_train, y_train, test_size=val_size, random_state=42)\n",
    "    return X_train, X_test, X_val, y_train, y_test, y_val"
   ]
  },
  {
   "cell_type": "markdown",
   "id": "b71991e3",
   "metadata": {},
   "source": [
    "#### Yolo veriseti formatında dosyaları oluşturalım"
   ]
  },
  {
   "cell_type": "code",
   "execution_count": 4,
   "id": "4f7c5819",
   "metadata": {},
   "outputs": [
    {
     "name": "stdout",
     "output_type": "stream",
     "text": [
      ">  SpirAl_Vision_V4_edited\n",
      "Sırası ile etiketleri girin\n",
      "Bitirmek için bitir yazın\n",
      "0 -> Değer:tasit\n",
      "1 -> Değer:insan\n",
      "2 -> Değer:UAP\n",
      "3 -> Değer:UAI\n",
      "4 -> Değer:bitir\n",
      "{'train': 'images/train', 'val': 'images/val', 'test': 'images/test', 'names': {0: 'tasit', 1: 'insan', 2: 'UAP', 3: 'UAI'}}\n",
      "SpirAl_Vision_V4_edited oluşturuldu\n"
     ]
    }
   ],
   "source": [
    "# Veri Seti İsmi\n",
    "print(\"Dataset İsmi Girin\")\n",
    "new_ds_name = str(input(\"> \"))\n",
    "new_ds_name = new_ds_name.strip()\n",
    "new_ds_name = '_'.join(new_ds_name.split(\" \"))\n",
    "clear_output()\n",
    "print(\"> \",new_ds_name)\n",
    "\n",
    "# detect.yaml dosyası\n",
    "detect_yaml = {\n",
    "    'train': 'images/train',\n",
    "    'val': 'images/val',\n",
    "    'test': 'images/test',\n",
    "    'names': {}\n",
    "}\n",
    "\n",
    "print(\"Sırası ile etiketleri girin\")\n",
    "print(\"Bitirmek için bitir yazın\")\n",
    "counter = 0 \n",
    "while True:\n",
    "    k  = input(f\"{counter} -> Değer:\")\n",
    "    if k != \"bitir\":\n",
    "        detect_yaml[\"names\"][counter] = k\n",
    "        counter += 1\n",
    "    else:\n",
    "        break\n",
    "print(detect_yaml)\n",
    "\n",
    "# Dosyaları Oluştur\n",
    "ds_count = len(os.listdir(f\"./merged\"))\n",
    "new_file_path = f\"./merged/{ds_count}_{new_ds_name}\"\n",
    "\n",
    "if os.path.exists(new_file_path) == False:\n",
    "    os.mkdir(new_file_path)\n",
    "    os.mkdir(path_sequence(new_file_path,\"detect\"))\n",
    "    with open(path_sequence(new_file_path,\"detect\",\"detect.yaml\"),\"w\") as f:\n",
    "        yaml.dump(detect_yaml,f, default_flow_style=False)\n",
    "    for i in [\"images\",\"labels\"]:\n",
    "        os.mkdir(path_sequence(new_file_path,\"detect\",i))\n",
    "        for j in [\"test\",\"train\",\"val\"]:\n",
    "            os.mkdir(path_sequence(new_file_path,\"detect\",i,j))\n",
    "    print(new_ds_name,\"oluşturuldu\")\n",
    "else:\n",
    "    print(\"Bu dosya zaten var\")"
   ]
  },
  {
   "cell_type": "markdown",
   "id": "ace46b68",
   "metadata": {},
   "source": [
    "# İŞLEM"
   ]
  },
  {
   "cell_type": "code",
   "execution_count": 5,
   "id": "dc46ce46",
   "metadata": {},
   "outputs": [
    {
     "name": "stdout",
     "output_type": "stream",
     "text": [
      "> işleniyor: Visdrone_distil\n"
     ]
    },
    {
     "name": "stderr",
     "output_type": "stream",
     "text": [
      "\n",
      "0it [00:00, ?it/s]\u001b[A"
     ]
    },
    {
     "name": "stdout",
     "output_type": "stream",
     "text": [
      ">>  ./datasets/Visdrone_distil/detect/images/val ./datasets/Visdrone_distil/detect/labels/val\n",
      ">> Frame Dosyası Sayısı  105  Etiket Dosyası Sayısı > 105 \n",
      "\n"
     ]
    },
    {
     "name": "stderr",
     "output_type": "stream",
     "text": [
      "\n",
      "1it [00:00,  2.50it/s]\u001b[A"
     ]
    },
    {
     "name": "stdout",
     "output_type": "stream",
     "text": [
      ">>  ./datasets/Visdrone_distil/detect/images/test ./datasets/Visdrone_distil/detect/labels/test\n",
      ">> Frame Dosyası Sayısı  917  Etiket Dosyası Sayısı > 917 \n",
      "\n"
     ]
    },
    {
     "name": "stderr",
     "output_type": "stream",
     "text": [
      "\n",
      "2it [00:01,  1.07s/it]\u001b[A"
     ]
    },
    {
     "name": "stdout",
     "output_type": "stream",
     "text": [
      ">>  ./datasets/Visdrone_distil/detect/images/train ./datasets/Visdrone_distil/detect/labels/train\n",
      ">> Frame Dosyası Sayısı  2566  Etiket Dosyası Sayısı > 2566 \n",
      "\n"
     ]
    },
    {
     "name": "stderr",
     "output_type": "stream",
     "text": [
      "\n",
      "3it [00:06,  2.03s/it]\u001b[A\n",
      "100%|██████████████████████████████████████████████████████████████████████████████████| 11/11 [00:51<00:00,  4.70s/it]\n"
     ]
    }
   ],
   "source": [
    "root =  \"./datasets\"\n",
    "ds_names_list = os.listdir(root)\n",
    "for ds_name in tqdm(ds_names_list):\n",
    "    \n",
    "    clear_output()\n",
    "    print(\"> işleniyor:\",ds_name)\n",
    "    for i,part in tqdm(enumerate([\"val\",\"test\",\"train\"])):\n",
    "        images_file_path = path_sequence(root,ds_name,\"detect\",\"images\",part)\n",
    "        labels_file_path = path_sequence(root,ds_name,\"detect\",\"labels\",part)        \n",
    "        print(\">> \",images_file_path,labels_file_path)\n",
    "        \n",
    "        image_names_list = os.listdir(images_file_path)\n",
    "        label_names_list = os.listdir(labels_file_path)\n",
    "        print(\">> Frame Dosyası Sayısı \",len(image_names_list),\" Etiket Dosyası Sayısı >\",len(label_names_list),\"\\n\")\n",
    "        if len(image_names_list) > 3 and len(label_names_list) > 3:\n",
    "            images_train, images_test, images_val, labels_train, labels_test, labels_val = split_dataset(image_names_list,label_names_list)\n",
    "\n",
    "\n",
    "            # train olarak bölütlenmiş görüntü ve etiketleri kopyala\n",
    "            for im_file, lbl_file in zip(images_train,labels_train):\n",
    "                im_source_path = path_sequence(images_file_path,im_file)\n",
    "                im_target_path = path_sequence(new_file_path,\"detect\",\"images\",\"train\",f\"{ds_name}_{im_file}\")\n",
    "                shutil.copyfile(im_source_path,im_target_path)\n",
    "\n",
    "                lbl_source_path = path_sequence(labels_file_path,lbl_file)\n",
    "                lbl_target_path = path_sequence(new_file_path,\"detect\",\"labels\",\"train\",f\"{ds_name}_{lbl_file}\")\n",
    "                shutil.copyfile(lbl_source_path,lbl_target_path)\n",
    "\n",
    "            # test olarak bölütlenmiş görüntü ve etiketleri kopyala\n",
    "            for im_file, lbl_file in zip(images_test,labels_test):\n",
    "                im_source_path = path_sequence(images_file_path,im_file)\n",
    "                im_target_path = path_sequence(new_file_path,\"detect\",\"images\",\"test\",f\"{ds_name}_{im_file}\")\n",
    "                shutil.copyfile(im_source_path,im_target_path)\n",
    "\n",
    "                lbl_source_path = path_sequence(labels_file_path,lbl_file)\n",
    "                lbl_target_path = path_sequence(new_file_path,\"detect\",\"labels\",\"test\",f\"{ds_name}_{lbl_file}\")\n",
    "                shutil.copyfile(lbl_source_path,lbl_target_path)\n",
    "\n",
    "            # val olarak bölütlenmiş görüntü ve etiketleri kopyala\n",
    "            for im_file, lbl_file in zip(images_val,labels_val):\n",
    "                im_source_path = path_sequence(images_file_path,im_file)\n",
    "                im_target_path = path_sequence(new_file_path,\"detect\",\"images\",\"val\",f\"{ds_name}_{im_file}\")\n",
    "                shutil.copyfile(im_source_path,im_target_path)\n",
    "\n",
    "                lbl_source_path = path_sequence(labels_file_path,lbl_file)\n",
    "                lbl_target_path = path_sequence(new_file_path,\"detect\",\"labels\",\"val\",f\"{ds_name}_{lbl_file}\")\n",
    "                shutil.copyfile(lbl_source_path,lbl_target_path)  \n",
    "        else:\n",
    "            print(\">>> Bu dosyada veri bulunmuyor: \",ds_name,\" \",part)\n",
    "\n"
   ]
  },
  {
   "cell_type": "markdown",
   "id": "2d588050",
   "metadata": {},
   "source": [
    "Verileri Saydırmak"
   ]
  },
  {
   "cell_type": "code",
   "execution_count": 6,
   "id": "ae46fa31",
   "metadata": {},
   "outputs": [
    {
     "name": "stderr",
     "output_type": "stream",
     "text": [
      "\r",
      "  0%|                                                                                            | 0/9 [00:00<?, ?it/s]"
     ]
    },
    {
     "name": "stdout",
     "output_type": "stream",
     "text": [
      "> işleniyor: Aerial_Maritime\n"
     ]
    },
    {
     "name": "stderr",
     "output_type": "stream",
     "text": [
      "\n",
      "3it [00:00, 333.36it/s]\n"
     ]
    },
    {
     "name": "stdout",
     "output_type": "stream",
     "text": [
      "0 ./datasets/Aerial_Maritime/detect/images/val\n",
      "19\n",
      "1 ./datasets/Aerial_Maritime/detect/images/test\n",
      "14\n",
      "2 ./datasets/Aerial_Maritime/detect/images/train\n",
      "70\n",
      "> işleniyor: Augmanted_frames_ds\n"
     ]
    },
    {
     "name": "stderr",
     "output_type": "stream",
     "text": [
      "\n",
      "0it [00:00, ?it/s]\u001b[A\n",
      "3it [00:00, 19.54it/s]\u001b[A\n",
      " 22%|██████████████████▋                                                                 | 2/9 [00:00<00:00, 11.94it/s]"
     ]
    },
    {
     "name": "stdout",
     "output_type": "stream",
     "text": [
      "0 ./datasets/Augmanted_frames_ds/detect/images/val\n",
      "396\n",
      "1 ./datasets/Augmanted_frames_ds/detect/images/test\n",
      "464\n",
      "2 ./datasets/Augmanted_frames_ds/detect/images/train\n",
      "3496\n",
      "> işleniyor: UYZ_2021_etiketli\n"
     ]
    },
    {
     "name": "stderr",
     "output_type": "stream",
     "text": [
      "\n",
      "0it [00:00, ?it/s]\u001b[A"
     ]
    },
    {
     "name": "stdout",
     "output_type": "stream",
     "text": [
      "0 ./datasets/UYZ_2021_etiketli/detect/images/val\n",
      "0\n",
      "1 ./datasets/UYZ_2021_etiketli/detect/images/test\n",
      "0\n",
      "2 ./datasets/UYZ_2021_etiketli/detect/images/train\n"
     ]
    },
    {
     "name": "stderr",
     "output_type": "stream",
     "text": [
      "3it [00:00, 32.45it/s]\n"
     ]
    },
    {
     "name": "stdout",
     "output_type": "stream",
     "text": [
      "3279\n",
      "> işleniyor: UYZ_2022_OTURUM2_1\n"
     ]
    },
    {
     "name": "stderr",
     "output_type": "stream",
     "text": [
      "\n",
      "3it [00:00, 76.19it/s]\n",
      " 44%|█████████████████████████████████████▎                                              | 4/9 [00:00<00:00, 13.38it/s]"
     ]
    },
    {
     "name": "stdout",
     "output_type": "stream",
     "text": [
      "0 ./datasets/UYZ_2022_OTURUM2_1/detect/images/val\n",
      "0\n",
      "1 ./datasets/UYZ_2022_OTURUM2_1/detect/images/test\n",
      "0\n",
      "2 ./datasets/UYZ_2022_OTURUM2_1/detect/images/train\n",
      "1046\n",
      "> işleniyor: UYZ_2022_OTURUM2_2\n"
     ]
    },
    {
     "name": "stderr",
     "output_type": "stream",
     "text": [
      "\n",
      "3it [00:00, 673.86it/s]\n"
     ]
    },
    {
     "name": "stdout",
     "output_type": "stream",
     "text": [
      "0 ./datasets/UYZ_2022_OTURUM2_2/detect/images/val\n",
      "0\n",
      "1 ./datasets/UYZ_2022_OTURUM2_2/detect/images/test\n",
      "0\n",
      "2 ./datasets/UYZ_2022_OTURUM2_2/detect/images/train\n",
      "549\n",
      "> işleniyor: UYZ_2022_OTURUM2_3\n"
     ]
    },
    {
     "name": "stderr",
     "output_type": "stream",
     "text": [
      "\n",
      "3it [00:00, 1499.75it/s]\n"
     ]
    },
    {
     "name": "stdout",
     "output_type": "stream",
     "text": [
      "0 ./datasets/UYZ_2022_OTURUM2_3/detect/images/val\n",
      "0\n",
      "1 ./datasets/UYZ_2022_OTURUM2_3/detect/images/test\n",
      "0\n",
      "2 ./datasets/UYZ_2022_OTURUM2_3/detect/images/train\n",
      "541\n",
      "> işleniyor: UYZ_2022_OTURUM2_4\n"
     ]
    },
    {
     "name": "stderr",
     "output_type": "stream",
     "text": [
      "\n",
      "3it [00:00, 416.25it/s]\n"
     ]
    },
    {
     "name": "stdout",
     "output_type": "stream",
     "text": [
      "0 ./datasets/UYZ_2022_OTURUM2_4/detect/images/val\n",
      "0\n",
      "1 ./datasets/UYZ_2022_OTURUM2_4/detect/images/test\n",
      "0\n",
      "2 ./datasets/UYZ_2022_OTURUM2_4/detect/images/train\n",
      "724\n",
      "> işleniyor: UYZ_2022_OTURUM2_5\n"
     ]
    },
    {
     "name": "stderr",
     "output_type": "stream",
     "text": [
      "\n",
      "3it [00:00, 748.76it/s]\n"
     ]
    },
    {
     "name": "stdout",
     "output_type": "stream",
     "text": [
      "0 ./datasets/UYZ_2022_OTURUM2_5/detect/images/val\n",
      "0\n",
      "1 ./datasets/UYZ_2022_OTURUM2_5/detect/images/test\n",
      "0\n",
      "2 ./datasets/UYZ_2022_OTURUM2_5/detect/images/train\n",
      "1163\n",
      "> işleniyor: visdrone\n"
     ]
    },
    {
     "name": "stderr",
     "output_type": "stream",
     "text": [
      "\n",
      "3it [00:00, 93.78it/s]"
     ]
    },
    {
     "name": "stdout",
     "output_type": "stream",
     "text": [
      "0 ./datasets/visdrone/detect/images/val\n",
      "548\n",
      "1 ./datasets/visdrone/detect/images/test\n",
      "1610\n",
      "2 ./datasets/visdrone/detect/images/train\n",
      "6471\n"
     ]
    },
    {
     "name": "stderr",
     "output_type": "stream",
     "text": [
      "\n",
      "100%|████████████████████████████████████████████████████████████████████████████████████| 9/9 [00:00<00:00, 24.65it/s]\n"
     ]
    }
   ],
   "source": [
    "root =  \"./datasets\"\n",
    "ds_names_list = os.listdir(root)\n",
    "\n",
    "sum_ = 0 \n",
    "for ds_name in tqdm(ds_names_list):\n",
    "    \n",
    "    print(\"> işleniyor:\",ds_name)\n",
    "    for i,part in tqdm(enumerate([\"val\",\"test\",\"train\"])):\n",
    "        images_file_path = path_sequence(root,ds_name,\"detect\",\"images\",part)\n",
    "        print(i,images_file_path)\n",
    "        print(len(os.listdir(images_file_path)))\n",
    "        sum_ += len(os.listdir(images_file_path))\n",
    "        "
   ]
  },
  {
   "cell_type": "code",
   "execution_count": 7,
   "id": "1388b0a5",
   "metadata": {},
   "outputs": [
    {
     "data": {
      "text/plain": [
       "20390"
      ]
     },
     "execution_count": 7,
     "metadata": {},
     "output_type": "execute_result"
    }
   ],
   "source": [
    "sum_"
   ]
  },
  {
   "cell_type": "code",
   "execution_count": null,
   "id": "a4d82b30",
   "metadata": {},
   "outputs": [],
   "source": []
  }
 ],
 "metadata": {
  "kernelspec": {
   "display_name": "Python 3 (ipykernel)",
   "language": "python",
   "name": "python3"
  },
  "language_info": {
   "codemirror_mode": {
    "name": "ipython",
    "version": 3
   },
   "file_extension": ".py",
   "mimetype": "text/x-python",
   "name": "python",
   "nbconvert_exporter": "python",
   "pygments_lexer": "ipython3",
   "version": "3.9.16"
  }
 },
 "nbformat": 4,
 "nbformat_minor": 5
}
