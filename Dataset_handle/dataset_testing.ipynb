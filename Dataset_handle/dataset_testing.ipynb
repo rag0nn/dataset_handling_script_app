{
 "cells": [
  {
   "cell_type": "markdown",
   "id": "cab14ee1",
   "metadata": {},
   "source": [
    "<h2>Veriseti Manuel Test Uygulaması</h2>\n",
    "<p>Yolo Etiket formatı yani resim boyutlarına göre scale edilmiş (label,center_x,center_y,width,height) \n",
    "değerlerini okuyup frame üzerine çizdirerek manuel test işlemi yapmak. Etiketlerin doğru mu işaretlendiğini test etmek</p>\n",
    "\n",
    "<ul><b>Klavye Kontrolleri</b>\n",
    "  <li>space -> bir sonraki görsele geçer</li>\n",
    "  <li>p -> görseli problemli olarak işaretleyip bir sonraki görsele geçer</li>\n",
    "  <li>q -> çıkış işlemi yapar</li>\n",
    "</ul>\n",
    "\n",
    "<p>Problemli olarak işaretlenen görsellerin isimleri dizindeki \"problems.txt\" içerisinde bulunur.</p>\n",
    "<p><i>İşlemler için dosyalar standart dizilimde olmalıdır, bir alt hücrede dizilim yazdırılmıştır. Bu dosya detect klasörünün yanında olmalıdır altında değil.</i></p>"
   ]
  },
  {
   "cell_type": "code",
   "execution_count": 1,
   "id": "1623c7eb",
   "metadata": {},
   "outputs": [
    {
     "name": "stdout",
     "output_type": "stream",
     "text": [
      "detect/\n",
      "├─detect.yaml\n",
      "├─images/\n",
      "│ ├─test/\n",
      "│ │ ├─bookstore_video0_0.jpg\n",
      "│ │ ├─bookstore_video0_30.jpg\n",
      "│ │ ├─bookstore_video0_60.jpg\n",
      "│ │ └─bookstore_video0_90.jpg\n",
      "│ ├─train/\n",
      "│ └─val/\n",
      "└─labels/\n",
      "  ├─test/\n",
      "  │ ├─bookstore_video0_0.txt\n",
      "  │ ├─bookstore_video0_30.txt\n",
      "  │ ├─bookstore_video0_60.txt\n",
      "  │ └─bookstore_video0_90.txt\n",
      "  ├─train/\n",
      "  └─val/\n"
     ]
    }
   ],
   "source": [
    "import seedir as sd\n",
    "sd.seedir(\"./detect/\")"
   ]
  },
  {
   "cell_type": "code",
   "execution_count": 1,
   "id": "90b725ff",
   "metadata": {},
   "outputs": [],
   "source": [
    "from spiral_tools.constants import label_dict,label_color_dict\n",
    "from spiral_tools.utils import path_sequence,format_line"
   ]
  },
  {
   "cell_type": "code",
   "execution_count": 2,
   "id": "d1d9c2e4",
   "metadata": {},
   "outputs": [],
   "source": [
    "import cv2\n",
    "import numpy as np\n",
    "import os\n",
    "from tqdm import tqdm\n",
    "from IPython.display import clear_output\n",
    "import random\n",
    "from sklearn.utils import shuffle"
   ]
  },
  {
   "cell_type": "code",
   "execution_count": 3,
   "id": "73cfb682",
   "metadata": {},
   "outputs": [],
   "source": [
    "# Ekran çözünürlüğüne ulaşalım\n",
    "import tkinter as tk\n",
    "root = tk.Tk()\n",
    "\n",
    "screen_width = root.winfo_screenwidth()\n",
    "screen_height = root.winfo_screenheight()"
   ]
  },
  {
   "cell_type": "code",
   "execution_count": 4,
   "id": "e7544329",
   "metadata": {},
   "outputs": [],
   "source": [
    "frame_display_size = (int(screen_width*0.8),int(screen_height*0.8))\n",
    "\n",
    "color1 = (100,100,255)\n",
    "color2 = (0,0,0)\n",
    "color3 = (50,210,50)\n",
    "color4 = (50,50,210)\n",
    "\n",
    "font = cv2.FONT_HERSHEY_DUPLEX\n",
    "\n",
    "is_randomized = True"
   ]
  },
  {
   "cell_type": "markdown",
   "id": "fcd0cfdf",
   "metadata": {},
   "source": [
    "## Alt Datasetlerden Seçmek ve ayarlar (./datasets altındakiler)"
   ]
  },
  {
   "cell_type": "markdown",
   "id": "87fa86a2",
   "metadata": {},
   "source": [
    "#### Dataset Seçme ve Ayarlar"
   ]
  },
  {
   "cell_type": "code",
   "execution_count": 5,
   "id": "21189bf0",
   "metadata": {},
   "outputs": [
    {
     "name": "stdout",
     "output_type": "stream",
     "text": [
      "Visdrone_distil\n",
      "Görüntüler rastgele olacak\n"
     ]
    }
   ],
   "source": [
    "ds_list = os.listdir(\"./datasets\")\n",
    "for i,ds in enumerate(ds_list):\n",
    "    print(i,ds)\n",
    "    \n",
    "print(\"\\nIndex girin: \")\n",
    "d_i = int(input(\"> \"))\n",
    "\n",
    "if d_i not in range(len(ds_list)):\n",
    "    print(\"\\nuygun bir index girin\")\n",
    "else:\n",
    "    \n",
    "    dataset_name = ds_list[d_i]    \n",
    "    print(\"\\nseçilen veriseti:\",dataset_name)\n",
    "    \n",
    "    root = f\"./datasets/{ds_list[d_i]}/detect\"\n",
    "    print(\"\\nroot: \",root)\n",
    "\n",
    "    print(\"\\nGörüntüler rastgele gelsin \\nhayır-> 0 \\nevet-> 1\")\n",
    "    is_rand = int(input(\"> \"))\n",
    "    clear_output()\n",
    "    print(dataset_name)\n",
    "    if is_rand == 0:\n",
    "        is_randomized = False\n",
    "        print(\"Görüntüler rastgele olmayacak\")\n",
    "    elif is_rand ==1:\n",
    "        is_randomized = True\n",
    "        print(\"Görüntüler rastgele olacak\")\n",
    "    else:\n",
    "        print(\"Yanlış karakter girildi. Otomatik Tercih: \",is_randomized)"
   ]
  },
  {
   "cell_type": "code",
   "execution_count": 6,
   "id": "e3726c1f",
   "metadata": {},
   "outputs": [
    {
     "name": "stderr",
     "output_type": "stream",
     "text": [
      "3it [04:14, 84.68s/it] "
     ]
    },
    {
     "name": "stdout",
     "output_type": "stream",
     "text": [
      "['train image: 9999955_00000_d_0000284.jpg txt: 9999955_00000_d_0000284.txt', 'train image: 9999987_00000_d_0000006.jpg txt: 9999987_00000_d_0000006.txt', 'train image: 9999955_00000_d_0000121.jpg txt: 9999955_00000_d_0000121.txt', 'train image: 9999999_00271_d_0000118.jpg txt: 9999999_00271_d_0000118.txt', 'train image: 9999964_00000_d_0000074.jpg txt: 9999964_00000_d_0000074.txt', 'train image: 9999982_00000_d_0000215.jpg txt: 9999982_00000_d_0000215.txt', 'train image: 9999955_00000_d_0000302.jpg txt: 9999955_00000_d_0000302.txt', 'train image: 9999956_00000_d_0000054.jpg txt: 9999956_00000_d_0000054.txt', 'train image: 9999955_00000_d_0000079.jpg txt: 9999955_00000_d_0000079.txt', 'train image: 9999966_00000_d_0000071.jpg txt: 9999966_00000_d_0000071.txt', 'train image: 9999945_00000_d_0000148.jpg txt: 9999945_00000_d_0000148.txt', 'train image: 9999955_00000_d_0000352.jpg txt: 9999955_00000_d_0000352.txt', 'train image: 9999953_00000_d_0000141.jpg txt: 9999953_00000_d_0000141.txt', 'train image: 9999984_00000_d_0000150.jpg txt: 9999984_00000_d_0000150.txt', 'train image: 9999984_00000_d_0000001.jpg txt: 9999984_00000_d_0000001.txt']\n"
     ]
    },
    {
     "name": "stderr",
     "output_type": "stream",
     "text": [
      "\n"
     ]
    }
   ],
   "source": [
    "images_path = path_sequence(root,\"images\")\n",
    "labels_path = path_sequence(root,\"labels\")\n",
    "\n",
    "problems = []\n",
    "\n",
    "shown_counter = 0\n",
    "problem_counter = 0\n",
    "notproblem_counter = 0\n",
    "\n",
    "\n",
    "for i,c in tqdm( enumerate([\"train\",\"test\",\"val\"])):\n",
    "    images_file = path_sequence(images_path,c)\n",
    "    labels_file = path_sequence(labels_path,c)\n",
    "    print(\"işleniyor: \", images_file)\n",
    "    print(\"işleniyor: \", labels_file)\n",
    "    image_names = os.listdir(images_file)\n",
    "    label_names = os.listdir(labels_file)\n",
    "    \n",
    "    if is_randomized:\n",
    "        image_names, label_names = shuffle(image_names, label_names)\n",
    "    \n",
    "    for im_name,label_name in zip(image_names,label_names):\n",
    "        ## dosyalara ulaş\n",
    "        print(\"--\",im_name,label_name)\n",
    "        print(\"gösterildi: \",shown_counter)\n",
    "        # frame\n",
    "        original_image = cv2.imread(path_sequence(images_file,im_name))\n",
    "        image = original_image.copy()\n",
    "        \n",
    "        # etiketler\n",
    "        f = open(path_sequence(labels_file,label_name),\"r\")\n",
    "        lines = f.readlines()\n",
    "        \n",
    "        for line in lines:\n",
    "            label, norm_center_x, norm_center_y, norm_width, norm_height = format_line(line)\n",
    "            \n",
    "            width = image.shape[1] * norm_width\n",
    "            height = image.shape[0] * norm_height\n",
    "            x1 = int(image.shape[1]*norm_center_x) - int(width/2)\n",
    "            x2 = int(image.shape[1]*norm_center_x) + int(width/2)\n",
    "            y1 = int(image.shape[0]*norm_center_y) - int(height/2)\n",
    "            y2 = int(image.shape[0]*norm_center_y) + int(height/2)\n",
    "            \n",
    "            # etiketleri çizdirelim\n",
    "            cv2.putText(image,f\"{label_dict[int(label)]}\",(x1+5,y1+15),font,0.55,label_color_dict[int(label)])\n",
    "            cv2.rectangle(image,(x1,y1),(x2,y2),label_color_dict[int(label)],2)\n",
    "            print(f\"{label}:{label_dict[int(label)]}\",norm_center_x,norm_center_y,norm_height,norm_height)\n",
    "        \n",
    "        \n",
    "        ## ekranda göster \n",
    "        image_ = cv2.resize(image,frame_display_size)\n",
    "        \n",
    "        ## bilgi yazıları\n",
    "        cv2.putText(image_,str(shown_counter),(10,40),font,1.2,color2)\n",
    "        cv2.putText(image_,str(notproblem_counter),(80,40),font,1.2,color3)    \n",
    "        cv2.putText(image_,str(problem_counter),(150,40),font,1.2,color4)\n",
    "    \n",
    "        for i,text in enumerate([\"space:atla\",\"p:problemli\",\"q:bitir\"]):\n",
    "            cv2.putText(image_,text,(10,image_.shape[0]-35*i-25),font,0.8,color2)\n",
    "        \n",
    "        window_name = f\"{c}  -  {im_name}  -  {label_name}\"\n",
    "    \n",
    "        cv2.namedWindow(window_name)\n",
    "        cv2.moveWindow(window_name,20,20)\n",
    "        cv2.imshow(window_name,image_)\n",
    "        \n",
    "        key = cv2.waitKey(0)\n",
    "        if key == ord(\"q\"):\n",
    "            cv2.destroyAllWindows()\n",
    "            clear_output()\n",
    "            break\n",
    "        elif key == ord(\"p\"):\n",
    "            problems.append(f\"{c} image: {im_name} txt: {label_name}\")\n",
    "            clear_output()\n",
    "            cv2.destroyAllWindows()\n",
    "            \n",
    "            shown_counter+=1 \n",
    "            problem_counter +=1\n",
    "            print(f\"Problemli olarak eklendi: {im_name}\")\n",
    "            continue\n",
    "        elif key == ord(\" \"):\n",
    "            cv2.destroyAllWindows()\n",
    "            clear_output()\n",
    "            shown_counter+=1 \n",
    "            notproblem_counter +=1\n",
    "            continue\n",
    "            \n",
    "if len(problems) > 0: \n",
    "    q = open(\"problems.txt\",\"w\")\n",
    "    for problem in problems:\n",
    "        q.write(dataset_name+\" \"+problem+\"\\n\")\n",
    "    q.close()\n",
    "    f.close()\n",
    "    print(problems)"
   ]
  },
  {
   "cell_type": "code",
   "execution_count": 8,
   "id": "835711d8",
   "metadata": {
    "collapsed": true
   },
   "outputs": [
    {
     "ename": "NameError",
     "evalue": "name 'problems' is not defined",
     "output_type": "error",
     "traceback": [
      "\u001b[1;31m---------------------------------------------------------------------------\u001b[0m",
      "\u001b[1;31mNameError\u001b[0m                                 Traceback (most recent call last)",
      "Cell \u001b[1;32mIn[8], line 1\u001b[0m\n\u001b[1;32m----> 1\u001b[0m \u001b[43mproblems\u001b[49m\n",
      "\u001b[1;31mNameError\u001b[0m: name 'problems' is not defined"
     ]
    }
   ],
   "source": [
    "problems"
   ]
  },
  {
   "cell_type": "markdown",
   "id": "86c9c433",
   "metadata": {},
   "source": [
    "## Toplanmış veri setinlerinden birini test etmek (./merged altındaki)"
   ]
  },
  {
   "cell_type": "code",
   "execution_count": 10,
   "id": "58114b7a",
   "metadata": {},
   "outputs": [
    {
     "name": "stdout",
     "output_type": "stream",
     "text": [
      "3_Spiral_Vision_Dataset_V4\n",
      "Görüntüler rastgele olacak\n"
     ]
    }
   ],
   "source": [
    "ds_list = os.listdir(\"./merged\")\n",
    "for i,ds in enumerate(ds_list):\n",
    "    print(i,ds)\n",
    "    \n",
    "print(\"\\nIndex girin: \")\n",
    "d_i = int(input(\"> \"))\n",
    "\n",
    "if d_i not in range(len(ds_list)):\n",
    "    print(\"\\nuygun bir index girin\")\n",
    "else:\n",
    "    \n",
    "    dataset_name = ds_list[d_i]    \n",
    "    print(\"\\nseçilen veriseti:\",dataset_name)\n",
    "    \n",
    "    root = f\"./merged/{ds_list[d_i]}/detect\"\n",
    "    print(\"\\nroot: \",root)\n",
    "\n",
    "    print(\"\\nGörüntüler rastgele gelsin \\nhayır-> 0 \\nevet-> 1\")\n",
    "    is_rand = int(input(\"> \"))\n",
    "    clear_output()\n",
    "    print(dataset_name)\n",
    "    if is_rand == 0:\n",
    "        is_randomized = False\n",
    "        print(\"Görüntüler rastgele olmayacak\")\n",
    "    elif is_rand ==1:\n",
    "        is_randomized = True\n",
    "        print(\"Görüntüler rastgele olacak\")\n",
    "    else:\n",
    "        print(\"Yanlış karakter girildi. Otomatik Tercih: \",is_randomized)"
   ]
  },
  {
   "cell_type": "code",
   "execution_count": 11,
   "id": "57dd5c1e",
   "metadata": {},
   "outputs": [
    {
     "name": "stderr",
     "output_type": "stream",
     "text": [
      "3it [03:17, 65.92s/it]\n"
     ]
    }
   ],
   "source": [
    "images_path = path_sequence(root,\"images\")\n",
    "labels_path = path_sequence(root,\"labels\")\n",
    "\n",
    "problems = []\n",
    "\n",
    "shown_counter = 0\n",
    "problem_counter = 0\n",
    "notproblem_counter = 0\n",
    "\n",
    "\n",
    "for i,c in tqdm( enumerate([\"train\",\"test\",\"val\"])):\n",
    "    images_file = path_sequence(images_path,c)\n",
    "    labels_file = path_sequence(labels_path,c)\n",
    "    print(\"işleniyor: \", images_file)\n",
    "    print(\"işleniyor: \", labels_file)\n",
    "    image_names = os.listdir(images_file)\n",
    "    label_names = os.listdir(labels_file)\n",
    "    \n",
    "    if is_randomized:\n",
    "        image_names, label_names = shuffle(image_names, label_names)\n",
    "    \n",
    "    for im_name,label_name in zip(image_names,label_names):\n",
    "        ## dosyalara ulaş\n",
    "        print(\"--\",im_name,label_name)\n",
    "        print(\"gösterildi: \",shown_counter)\n",
    "        # frame\n",
    "        original_image = cv2.imread(path_sequence(images_file,im_name))\n",
    "        image = original_image.copy()\n",
    "        \n",
    "        # etiketler\n",
    "        f = open(path_sequence(labels_file,label_name),\"r\")\n",
    "        lines = f.readlines()\n",
    "        \n",
    "        for line in lines:\n",
    "            label, norm_center_x, norm_center_y, norm_width, norm_height = format_line(line)\n",
    "            \n",
    "            width = image.shape[1] * norm_width\n",
    "            height = image.shape[0] * norm_height\n",
    "            x1 = int(image.shape[1]*norm_center_x) - int(width/2)\n",
    "            x2 = int(image.shape[1]*norm_center_x) + int(width/2)\n",
    "            y1 = int(image.shape[0]*norm_center_y) - int(height/2)\n",
    "            y2 = int(image.shape[0]*norm_center_y) + int(height/2)\n",
    "            \n",
    "            # etiketleri çizdirelim\n",
    "            cv2.putText(image,f\"{label_dict[int(label)]}\",(x1+5,y1+15),font,0.55,label_color_dict[int(label)])\n",
    "            cv2.rectangle(image,(x1,y1),(x2,y2),label_color_dict[int(label)],2)\n",
    "            print(f\"{label}:{label_dict[int(label)]}\",norm_center_x,norm_center_y,norm_height,norm_height)\n",
    "        \n",
    "        \n",
    "        ## ekranda göster \n",
    "        image_ = cv2.resize(image,frame_display_size)\n",
    "        \n",
    "        ## bilgi yazıları\n",
    "        cv2.putText(image_,str(shown_counter),(10,40),font,1.2,color2)\n",
    "        cv2.putText(image_,str(notproblem_counter),(80,40),font,1.2,color3)    \n",
    "        cv2.putText(image_,str(problem_counter),(150,40),font,1.2,color4)\n",
    "    \n",
    "        for i,text in enumerate([\"space:atla\",\"p:problemli\",\"q:bitir\"]):\n",
    "            cv2.putText(image_,text,(10,image_.shape[0]-35*i-25),font,0.8,color2)\n",
    "        \n",
    "        window_name = f\"{c}  -  {im_name}  -  {label_name}\"\n",
    "    \n",
    "        cv2.namedWindow(window_name)\n",
    "        cv2.moveWindow(window_name,20,20)\n",
    "        cv2.imshow(window_name,image_)\n",
    "        \n",
    "        key = cv2.waitKey(0)\n",
    "        if key == ord(\"q\"):\n",
    "            cv2.destroyAllWindows()\n",
    "            clear_output()\n",
    "            break\n",
    "        elif key == ord(\"p\"):\n",
    "            problems.append(f\"{c} image: {im_name} txt: {label_name}\")\n",
    "            clear_output()\n",
    "            cv2.destroyAllWindows()\n",
    "            \n",
    "            shown_counter+=1 \n",
    "            problem_counter +=1\n",
    "            print(f\"Problemli olarak eklendi: {im_name}\")\n",
    "            continue\n",
    "        elif key == ord(\" \"):\n",
    "            cv2.destroyAllWindows()\n",
    "            clear_output()\n",
    "            shown_counter+=1 \n",
    "            notproblem_counter +=1\n",
    "            continue\n",
    "            \n",
    "if len(problems) > 0: \n",
    "    q = open(\"problems.txt\",\"w\")\n",
    "    for problem in problems:\n",
    "        q.write(dataset_name+\" \"+problem+\"\\n\")\n",
    "    q.close()\n",
    "    f.close()\n",
    "    print(problems)"
   ]
  },
  {
   "cell_type": "code",
   "execution_count": null,
   "id": "8a03f57b",
   "metadata": {},
   "outputs": [],
   "source": []
  }
 ],
 "metadata": {
  "kernelspec": {
   "display_name": "Python 3 (ipykernel)",
   "language": "python",
   "name": "python3"
  },
  "language_info": {
   "codemirror_mode": {
    "name": "ipython",
    "version": 3
   },
   "file_extension": ".py",
   "mimetype": "text/x-python",
   "name": "python",
   "nbconvert_exporter": "python",
   "pygments_lexer": "ipython3",
   "version": "3.9.16"
  }
 },
 "nbformat": 4,
 "nbformat_minor": 5
}
