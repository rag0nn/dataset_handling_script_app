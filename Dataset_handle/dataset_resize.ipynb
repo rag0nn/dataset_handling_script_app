{
 "cells": [
  {
   "cell_type": "code",
   "execution_count": 107,
   "id": "92522618",
   "metadata": {},
   "outputs": [],
   "source": [
    "import os\n",
    "import cv2\n",
    "import numpy as np\n",
    "import os\n",
    "from tqdm import tqdm\n",
    "from IPython.display import clear_output\n",
    "from spiral_tools.utils import path_sequence,create_yolo_dataset_format\n",
    "import shutil"
   ]
  },
  {
   "cell_type": "markdown",
   "id": "807de873",
   "metadata": {},
   "source": [
    "#### veri seti seç"
   ]
  },
  {
   "cell_type": "code",
   "execution_count": 108,
   "id": "76218836",
   "metadata": {},
   "outputs": [
    {
     "name": "stdout",
     "output_type": "stream",
     "text": [
      "Veri seti:  Aerial_Maritime\n"
     ]
    }
   ],
   "source": [
    "ds_list = os.listdir(\"./datasets\")\n",
    "for i,ds in enumerate(ds_list):\n",
    "    print(i,ds)\n",
    "    \n",
    "print(\"\\nIndex girin: \")\n",
    "d_i = int(input(\"> \"))\n",
    "\n",
    "if d_i not in range(len(ds_list)):\n",
    "    print(\"\\nuygun bir index girin\")\n",
    "else:\n",
    "    \n",
    "    dataset_name = ds_list[d_i]    \n",
    "    print(\"\\nseçilen veriseti:\",dataset_name)\n",
    "    \n",
    "    root = f\"./datasets/{ds_list[d_i]}/detect\"\n",
    "    print(\"\\nroot: \",root)\n",
    "\n",
    "    clear_output()\n",
    "    print(\"Veri seti: \" ,dataset_name)\n"
   ]
  },
  {
   "cell_type": "markdown",
   "id": "87cd1967",
   "metadata": {},
   "source": [
    "#### Yeni boyut seç"
   ]
  },
  {
   "cell_type": "code",
   "execution_count": 109,
   "id": "aedc9afb",
   "metadata": {},
   "outputs": [
    {
     "name": "stdout",
     "output_type": "stream",
     "text": [
      "Oranlar aynı tutularak büyük kenarlar girilen değere göre resim boyutu küçültülsün mü? (eğer değerden küçükse resim boyutu aynen kalır)\n",
      "0: hayır, boyut değeri: evet\n",
      ">960\n",
      "Yeniden boyulandırma:  960\n",
      "Oluşturuldu ./datasets/Aerial_Maritime_resized/detect/images/train  --  ./datasets/Aerial_Maritime_resized/detect/labels/train\n",
      "Oluşturuldu ./datasets/Aerial_Maritime_resized/detect/images/test  --  ./datasets/Aerial_Maritime_resized/detect/labels/test\n",
      "Oluşturuldu ./datasets/Aerial_Maritime_resized/detect/images/val  --  ./datasets/Aerial_Maritime_resized/detect/labels/val\n"
     ]
    }
   ],
   "source": [
    "resize_shape = 0 # büyük kenarı oranları aynı tutarak küçültür eğer büyük kenar bu değerden küçükse değiştirilmeyecek\n",
    "\n",
    "# Yeniden Boyutlandırma\n",
    "print(\"Oranlar aynı tutularak büyük kenarlar girilen değere göre resim boyutu küçültülsün mü? (eğer değerden küçükse resim boyutu aynen kalır)\")\n",
    "print(\"0: hayır, boyut değeri: evet\")\n",
    "n = int(input(\">\"))\n",
    "if n > 0 :\n",
    "    resize_shape = n\n",
    "    print(\"Yeniden boyulandırma: \",n)\n",
    "else:\n",
    "    print(\"Yeniden boyutlandırma yok\")\n",
    "    \n",
    "# yeni ds oluştur\n",
    "new_ds_name = f\"{dataset_name}_resized\"\n",
    "create_yolo_dataset_format(\"./datasets\",new_ds_name)"
   ]
  },
  {
   "cell_type": "code",
   "execution_count": 110,
   "id": "e21faf64",
   "metadata": {},
   "outputs": [],
   "source": [
    "def get_new_shape(frame_width,frame_height,resize_shape):\n",
    "    frame_shape = (frame_width,frame_height)\n",
    "    \n",
    "    max_value = np.max(frame_shape)\n",
    "    max_value_idx = np.argmax(frame_shape)\n",
    "    \n",
    "    if max_value > resize_shape:\n",
    "        if max_value_idx == 0:\n",
    "            new_height = int(resize_shape * frame_height / frame_width)\n",
    "            new_width = resize_shape\n",
    "        elif max_value_idx == 1:\n",
    "            new_width = int(resize_shape * frame_width / frame_height)\n",
    "            new_height = resize_shape\n",
    "        frame_shape = (new_width,new_height)\n",
    "        \n",
    "    return frame_shape"
   ]
  },
  {
   "cell_type": "code",
   "execution_count": 111,
   "id": "d4dce88c",
   "metadata": {},
   "outputs": [
    {
     "name": "stderr",
     "output_type": "stream",
     "text": [
      "\r",
      "0it [00:00, ?it/s]"
     ]
    },
    {
     "name": "stdout",
     "output_type": "stream",
     "text": [
      "işleniyor:  ./datasets/Aerial_Maritime/detect/images/train\n"
     ]
    },
    {
     "name": "stderr",
     "output_type": "stream",
     "text": [
      "2it [00:00,  2.55it/s]"
     ]
    },
    {
     "name": "stdout",
     "output_type": "stream",
     "text": [
      "işleniyor:  ./datasets/Aerial_Maritime/detect/images/test\n",
      "işleniyor:  ./datasets/Aerial_Maritime/detect/images/val\n"
     ]
    },
    {
     "name": "stderr",
     "output_type": "stream",
     "text": [
      "3it [00:01,  2.74it/s]\n"
     ]
    },
    {
     "data": {
      "text/plain": [
       "'./datasets/Aerial_Maritime_resized/detect/labels'"
      ]
     },
     "execution_count": 111,
     "metadata": {},
     "output_type": "execute_result"
    }
   ],
   "source": [
    "# resimleri yeniden boyutlandır ve taşı\n",
    "images_path = path_sequence(root,\"images\")\n",
    "\n",
    "\n",
    "for i,c in tqdm( enumerate([\"train\",\"test\",\"val\"])):\n",
    "    images_file = path_sequence(images_path,c)\n",
    "    print(\"işleniyor: \", images_file)\n",
    "    image_names = os.listdir(images_file)\n",
    "   \n",
    "    for im_name in image_names:\n",
    "        # frame\n",
    "        original_image = cv2.imread(path_sequence(images_file,im_name))\n",
    "        image = original_image.copy()\n",
    "        new_shape = get_new_shape(frame_width=image.shape[1],frame_height=image.shape[0],resize_shape=resize_shape)\n",
    "        new_image = cv2.resize(image,new_shape)\n",
    "        im_path = path_sequence(\".\",\"datasets\",new_ds_name,\"detect\",\"images\",c,im_name)\n",
    "        cv2.imwrite(im_path,new_image)\n",
    "        \n",
    "# etiketleri kopyala\n",
    "labels_path = path_sequence(root,\"labels\")\n",
    "os.removedirs(path_sequence(\".\",\"datasets\",new_ds_name,\"detect\",\"labels\",\"train\"))\n",
    "os.removedirs(path_sequence(\".\",\"datasets\",new_ds_name,\"detect\",\"labels\",\"test\"))\n",
    "os.removedirs(path_sequence(\".\",\"datasets\",new_ds_name,\"detect\",\"labels\",\"val\"))\n",
    "shutil.copytree(labels_path,path_sequence(\".\",\"datasets\",new_ds_name,\"detect\",\"labels\"))"
   ]
  },
  {
   "cell_type": "code",
   "execution_count": null,
   "id": "8b3b6062",
   "metadata": {},
   "outputs": [],
   "source": [
    "\n"
   ]
  },
  {
   "cell_type": "markdown",
   "id": "d2cb2ca3",
   "metadata": {},
   "source": [
    "### Tüm verisetlerine uygula"
   ]
  },
  {
   "cell_type": "code",
   "execution_count": 113,
   "id": "20edb945",
   "metadata": {},
   "outputs": [
    {
     "name": "stdout",
     "output_type": "stream",
     "text": [
      "Oranlar aynı tutularak büyük kenarlar girilen değere göre resim boyutu küçültülsün mü? (eğer değerden küçükse resim boyutu aynen kalır)\n",
      "0: hayır, boyut değeri: evet\n",
      ">960\n",
      "Yeniden boyulandırma:  960\n",
      "Oluşturuldu ./datasets/Aerial_Maritime_resized/detect/images/train  --  ./datasets/Aerial_Maritime_resized/detect/labels/train\n",
      "Oluşturuldu ./datasets/Aerial_Maritime_resized/detect/images/test  --  ./datasets/Aerial_Maritime_resized/detect/labels/test\n",
      "Oluşturuldu ./datasets/Aerial_Maritime_resized/detect/images/val  --  ./datasets/Aerial_Maritime_resized/detect/labels/val\n"
     ]
    },
    {
     "name": "stderr",
     "output_type": "stream",
     "text": [
      "\r",
      "0it [00:00, ?it/s]"
     ]
    },
    {
     "name": "stdout",
     "output_type": "stream",
     "text": [
      "işleniyor:  ./datasets/Aerial_Maritime/detect/images/train\n"
     ]
    },
    {
     "name": "stderr",
     "output_type": "stream",
     "text": [
      "2it [00:00,  2.61it/s]"
     ]
    },
    {
     "name": "stdout",
     "output_type": "stream",
     "text": [
      "işleniyor:  ./datasets/Aerial_Maritime/detect/images/test\n",
      "işleniyor:  ./datasets/Aerial_Maritime/detect/images/val\n"
     ]
    },
    {
     "name": "stderr",
     "output_type": "stream",
     "text": [
      "3it [00:01,  2.67it/s]\n"
     ]
    },
    {
     "name": "stdout",
     "output_type": "stream",
     "text": [
      "Oluşturuldu ./datasets/UYZ_2021_etiketli_resized/detect/images/train  --  ./datasets/UYZ_2021_etiketli_resized/detect/labels/train\n",
      "Oluşturuldu ./datasets/UYZ_2021_etiketli_resized/detect/images/test  --  ./datasets/UYZ_2021_etiketli_resized/detect/labels/test\n",
      "Oluşturuldu ./datasets/UYZ_2021_etiketli_resized/detect/images/val  --  ./datasets/UYZ_2021_etiketli_resized/detect/labels/val\n"
     ]
    },
    {
     "name": "stderr",
     "output_type": "stream",
     "text": [
      "\r",
      "0it [00:00, ?it/s]"
     ]
    },
    {
     "name": "stdout",
     "output_type": "stream",
     "text": [
      "işleniyor:  ./datasets/UYZ_2021_etiketli/detect/images/train\n"
     ]
    },
    {
     "name": "stderr",
     "output_type": "stream",
     "text": [
      "3it [01:44, 34.73s/it] \n"
     ]
    },
    {
     "name": "stdout",
     "output_type": "stream",
     "text": [
      "işleniyor:  ./datasets/UYZ_2021_etiketli/detect/images/test\n",
      "işleniyor:  ./datasets/UYZ_2021_etiketli/detect/images/val\n",
      "Oluşturuldu ./datasets/UYZ_2022_OTURUM2_1_resized/detect/images/train  --  ./datasets/UYZ_2022_OTURUM2_1_resized/detect/labels/train\n",
      "Oluşturuldu ./datasets/UYZ_2022_OTURUM2_1_resized/detect/images/test  --  ./datasets/UYZ_2022_OTURUM2_1_resized/detect/labels/test\n",
      "Oluşturuldu ./datasets/UYZ_2022_OTURUM2_1_resized/detect/images/val  --  ./datasets/UYZ_2022_OTURUM2_1_resized/detect/labels/val\n"
     ]
    },
    {
     "name": "stderr",
     "output_type": "stream",
     "text": [
      "\r",
      "0it [00:00, ?it/s]"
     ]
    },
    {
     "name": "stdout",
     "output_type": "stream",
     "text": [
      "işleniyor:  ./datasets/UYZ_2022_OTURUM2_1/detect/images/train\n"
     ]
    },
    {
     "name": "stderr",
     "output_type": "stream",
     "text": [
      "3it [00:53, 17.92s/it]\n"
     ]
    },
    {
     "name": "stdout",
     "output_type": "stream",
     "text": [
      "işleniyor:  ./datasets/UYZ_2022_OTURUM2_1/detect/images/test\n",
      "işleniyor:  ./datasets/UYZ_2022_OTURUM2_1/detect/images/val\n",
      "Oluşturuldu ./datasets/UYZ_2022_OTURUM2_2_resized/detect/images/train  --  ./datasets/UYZ_2022_OTURUM2_2_resized/detect/labels/train\n",
      "Oluşturuldu ./datasets/UYZ_2022_OTURUM2_2_resized/detect/images/test  --  ./datasets/UYZ_2022_OTURUM2_2_resized/detect/labels/test\n",
      "Oluşturuldu ./datasets/UYZ_2022_OTURUM2_2_resized/detect/images/val  --  ./datasets/UYZ_2022_OTURUM2_2_resized/detect/labels/val\n"
     ]
    },
    {
     "name": "stderr",
     "output_type": "stream",
     "text": [
      "\r",
      "0it [00:00, ?it/s]"
     ]
    },
    {
     "name": "stdout",
     "output_type": "stream",
     "text": [
      "işleniyor:  ./datasets/UYZ_2022_OTURUM2_2/detect/images/train\n"
     ]
    },
    {
     "name": "stderr",
     "output_type": "stream",
     "text": [
      "3it [00:27,  9.27s/it]\n"
     ]
    },
    {
     "name": "stdout",
     "output_type": "stream",
     "text": [
      "işleniyor:  ./datasets/UYZ_2022_OTURUM2_2/detect/images/test\n",
      "işleniyor:  ./datasets/UYZ_2022_OTURUM2_2/detect/images/val\n",
      "Oluşturuldu ./datasets/UYZ_2022_OTURUM2_3_resized/detect/images/train  --  ./datasets/UYZ_2022_OTURUM2_3_resized/detect/labels/train\n",
      "Oluşturuldu ./datasets/UYZ_2022_OTURUM2_3_resized/detect/images/test  --  ./datasets/UYZ_2022_OTURUM2_3_resized/detect/labels/test\n",
      "Oluşturuldu ./datasets/UYZ_2022_OTURUM2_3_resized/detect/images/val  --  ./datasets/UYZ_2022_OTURUM2_3_resized/detect/labels/val\n"
     ]
    },
    {
     "name": "stderr",
     "output_type": "stream",
     "text": [
      "\r",
      "0it [00:00, ?it/s]"
     ]
    },
    {
     "name": "stdout",
     "output_type": "stream",
     "text": [
      "işleniyor:  ./datasets/UYZ_2022_OTURUM2_3/detect/images/train\n"
     ]
    },
    {
     "name": "stderr",
     "output_type": "stream",
     "text": [
      "3it [00:21,  7.11s/it]\n"
     ]
    },
    {
     "name": "stdout",
     "output_type": "stream",
     "text": [
      "işleniyor:  ./datasets/UYZ_2022_OTURUM2_3/detect/images/test\n",
      "işleniyor:  ./datasets/UYZ_2022_OTURUM2_3/detect/images/val\n",
      "Oluşturuldu ./datasets/UYZ_2022_OTURUM2_4_resized/detect/images/train  --  ./datasets/UYZ_2022_OTURUM2_4_resized/detect/labels/train\n",
      "Oluşturuldu ./datasets/UYZ_2022_OTURUM2_4_resized/detect/images/test  --  ./datasets/UYZ_2022_OTURUM2_4_resized/detect/labels/test\n",
      "Oluşturuldu ./datasets/UYZ_2022_OTURUM2_4_resized/detect/images/val  --  ./datasets/UYZ_2022_OTURUM2_4_resized/detect/labels/val\n"
     ]
    },
    {
     "name": "stderr",
     "output_type": "stream",
     "text": [
      "\r",
      "0it [00:00, ?it/s]"
     ]
    },
    {
     "name": "stdout",
     "output_type": "stream",
     "text": [
      "işleniyor:  ./datasets/UYZ_2022_OTURUM2_4/detect/images/train\n"
     ]
    },
    {
     "name": "stderr",
     "output_type": "stream",
     "text": [
      "3it [00:35, 11.96s/it]\n"
     ]
    },
    {
     "name": "stdout",
     "output_type": "stream",
     "text": [
      "işleniyor:  ./datasets/UYZ_2022_OTURUM2_4/detect/images/test\n",
      "işleniyor:  ./datasets/UYZ_2022_OTURUM2_4/detect/images/val\n",
      "Oluşturuldu ./datasets/UYZ_2022_OTURUM2_5_resized/detect/images/train  --  ./datasets/UYZ_2022_OTURUM2_5_resized/detect/labels/train\n",
      "Oluşturuldu ./datasets/UYZ_2022_OTURUM2_5_resized/detect/images/test  --  ./datasets/UYZ_2022_OTURUM2_5_resized/detect/labels/test\n",
      "Oluşturuldu ./datasets/UYZ_2022_OTURUM2_5_resized/detect/images/val  --  ./datasets/UYZ_2022_OTURUM2_5_resized/detect/labels/val\n"
     ]
    },
    {
     "name": "stderr",
     "output_type": "stream",
     "text": [
      "\r",
      "0it [00:00, ?it/s]"
     ]
    },
    {
     "name": "stdout",
     "output_type": "stream",
     "text": [
      "işleniyor:  ./datasets/UYZ_2022_OTURUM2_5/detect/images/train\n"
     ]
    },
    {
     "name": "stderr",
     "output_type": "stream",
     "text": [
      "3it [00:59, 19.90s/it]\n"
     ]
    },
    {
     "name": "stdout",
     "output_type": "stream",
     "text": [
      "işleniyor:  ./datasets/UYZ_2022_OTURUM2_5/detect/images/test\n",
      "işleniyor:  ./datasets/UYZ_2022_OTURUM2_5/detect/images/val\n",
      "Oluşturuldu ./datasets/UYZ_etiketliler_augmanted_resized/detect/images/train  --  ./datasets/UYZ_etiketliler_augmanted_resized/detect/labels/train\n",
      "Oluşturuldu ./datasets/UYZ_etiketliler_augmanted_resized/detect/images/test  --  ./datasets/UYZ_etiketliler_augmanted_resized/detect/labels/test\n",
      "Oluşturuldu ./datasets/UYZ_etiketliler_augmanted_resized/detect/images/val  --  ./datasets/UYZ_etiketliler_augmanted_resized/detect/labels/val\n"
     ]
    },
    {
     "name": "stderr",
     "output_type": "stream",
     "text": [
      "\r",
      "0it [00:00, ?it/s]"
     ]
    },
    {
     "name": "stdout",
     "output_type": "stream",
     "text": [
      "işleniyor:  ./datasets/UYZ_etiketliler_augmanted/detect/images/train\n"
     ]
    },
    {
     "name": "stderr",
     "output_type": "stream",
     "text": [
      "\r",
      "1it [02:04, 124.75s/it]"
     ]
    },
    {
     "name": "stdout",
     "output_type": "stream",
     "text": [
      "işleniyor:  ./datasets/UYZ_etiketliler_augmanted/detect/images/test\n"
     ]
    },
    {
     "name": "stderr",
     "output_type": "stream",
     "text": [
      "\r",
      "2it [02:20, 60.62s/it] "
     ]
    },
    {
     "name": "stdout",
     "output_type": "stream",
     "text": [
      "işleniyor:  ./datasets/UYZ_etiketliler_augmanted/detect/images/val\n"
     ]
    },
    {
     "name": "stderr",
     "output_type": "stream",
     "text": [
      "3it [02:33, 51.31s/it]\n"
     ]
    },
    {
     "name": "stdout",
     "output_type": "stream",
     "text": [
      "Oluşturuldu ./datasets/UYZ_TUM_etiketlenenler_resized/detect/images/train  --  ./datasets/UYZ_TUM_etiketlenenler_resized/detect/labels/train\n",
      "Oluşturuldu ./datasets/UYZ_TUM_etiketlenenler_resized/detect/images/test  --  ./datasets/UYZ_TUM_etiketlenenler_resized/detect/labels/test\n",
      "Oluşturuldu ./datasets/UYZ_TUM_etiketlenenler_resized/detect/images/val  --  ./datasets/UYZ_TUM_etiketlenenler_resized/detect/labels/val\n"
     ]
    },
    {
     "name": "stderr",
     "output_type": "stream",
     "text": [
      "\r",
      "0it [00:00, ?it/s]"
     ]
    },
    {
     "name": "stdout",
     "output_type": "stream",
     "text": [
      "işleniyor:  ./datasets/UYZ_TUM_etiketlenenler/detect/images/train\n"
     ]
    },
    {
     "name": "stderr",
     "output_type": "stream",
     "text": [
      "3it [00:31, 10.63s/it]\n"
     ]
    },
    {
     "name": "stdout",
     "output_type": "stream",
     "text": [
      "işleniyor:  ./datasets/UYZ_TUM_etiketlenenler/detect/images/test\n",
      "işleniyor:  ./datasets/UYZ_TUM_etiketlenenler/detect/images/val\n",
      "Oluşturuldu ./datasets/UYZ_TUM_etiketlenenler_augmanted_resized/detect/images/train  --  ./datasets/UYZ_TUM_etiketlenenler_augmanted_resized/detect/labels/train\n",
      "Oluşturuldu ./datasets/UYZ_TUM_etiketlenenler_augmanted_resized/detect/images/test  --  ./datasets/UYZ_TUM_etiketlenenler_augmanted_resized/detect/labels/test\n",
      "Oluşturuldu ./datasets/UYZ_TUM_etiketlenenler_augmanted_resized/detect/images/val  --  ./datasets/UYZ_TUM_etiketlenenler_augmanted_resized/detect/labels/val\n"
     ]
    },
    {
     "name": "stderr",
     "output_type": "stream",
     "text": [
      "\r",
      "0it [00:00, ?it/s]"
     ]
    },
    {
     "name": "stdout",
     "output_type": "stream",
     "text": [
      "işleniyor:  ./datasets/UYZ_TUM_etiketlenenler_augmanted/detect/images/train\n"
     ]
    },
    {
     "name": "stderr",
     "output_type": "stream",
     "text": [
      "3it [03:44, 74.81s/it] \n"
     ]
    },
    {
     "name": "stdout",
     "output_type": "stream",
     "text": [
      "işleniyor:  ./datasets/UYZ_TUM_etiketlenenler_augmanted/detect/images/test\n",
      "işleniyor:  ./datasets/UYZ_TUM_etiketlenenler_augmanted/detect/images/val\n",
      "Oluşturuldu ./datasets/VCI_resized/detect/images/train  --  ./datasets/VCI_resized/detect/labels/train\n",
      "Oluşturuldu ./datasets/VCI_resized/detect/images/test  --  ./datasets/VCI_resized/detect/labels/test\n",
      "Oluşturuldu ./datasets/VCI_resized/detect/images/val  --  ./datasets/VCI_resized/detect/labels/val\n"
     ]
    },
    {
     "name": "stderr",
     "output_type": "stream",
     "text": [
      "\r",
      "0it [00:00, ?it/s]"
     ]
    },
    {
     "name": "stdout",
     "output_type": "stream",
     "text": [
      "işleniyor:  ./datasets/VCI/detect/images/train\n"
     ]
    },
    {
     "name": "stderr",
     "output_type": "stream",
     "text": [
      "3it [00:30, 10.14s/it]\n"
     ]
    },
    {
     "name": "stdout",
     "output_type": "stream",
     "text": [
      "işleniyor:  ./datasets/VCI/detect/images/test\n",
      "işleniyor:  ./datasets/VCI/detect/images/val\n",
      "Oluşturuldu ./datasets/Visdrone_distil_resized/detect/images/train  --  ./datasets/Visdrone_distil_resized/detect/labels/train\n",
      "Oluşturuldu ./datasets/Visdrone_distil_resized/detect/images/test  --  ./datasets/Visdrone_distil_resized/detect/labels/test\n",
      "Oluşturuldu ./datasets/Visdrone_distil_resized/detect/images/val  --  ./datasets/Visdrone_distil_resized/detect/labels/val\n"
     ]
    },
    {
     "name": "stderr",
     "output_type": "stream",
     "text": [
      "\r",
      "0it [00:00, ?it/s]"
     ]
    },
    {
     "name": "stdout",
     "output_type": "stream",
     "text": [
      "işleniyor:  ./datasets/Visdrone_distil/detect/images/train\n"
     ]
    },
    {
     "name": "stderr",
     "output_type": "stream",
     "text": [
      "\r",
      "1it [01:09, 69.09s/it]"
     ]
    },
    {
     "name": "stdout",
     "output_type": "stream",
     "text": [
      "işleniyor:  ./datasets/Visdrone_distil/detect/images/test\n"
     ]
    },
    {
     "name": "stderr",
     "output_type": "stream",
     "text": [
      "\r",
      "2it [01:30, 41.12s/it]"
     ]
    },
    {
     "name": "stdout",
     "output_type": "stream",
     "text": [
      "işleniyor:  ./datasets/Visdrone_distil/detect/images/val\n"
     ]
    },
    {
     "name": "stderr",
     "output_type": "stream",
     "text": [
      "3it [01:33, 31.25s/it]\n"
     ]
    }
   ],
   "source": [
    "resize_shape = 0 # büyük kenarı oranları aynı tutarak küçültür eğer büyük kenar bu değerden küçükse değiştirilmeyecek\n",
    "\n",
    "# Yeniden Boyutlandırma\n",
    "print(\"Oranlar aynı tutularak büyük kenarlar girilen değere göre resim boyutu küçültülsün mü? (eğer değerden küçükse resim boyutu aynen kalır)\")\n",
    "print(\"0: hayır, boyut değeri: evet\")\n",
    "n = int(input(\">\"))\n",
    "if n > 0 :\n",
    "    resize_shape = n\n",
    "    print(\"Yeniden boyulandırma: \",n)\n",
    "    \n",
    "\n",
    "\n",
    "\n",
    "    for ds_name in tqdm(os.listdir(\"./datasets\")):\n",
    "        # yeni ds oluştur\n",
    "        new_ds_name = f\"{ds_name}_resized\"\n",
    "        create_yolo_dataset_format(\"./datasets\",new_ds_name)\n",
    "        \n",
    "        root = f\"./datasets/{ds_name}/detect\"\n",
    "\n",
    "        # resimleri yeniden boyutlandır ve taşı\n",
    "        images_path = path_sequence(root,\"images\")\n",
    "\n",
    "\n",
    "        for i,c in tqdm( enumerate([\"train\",\"test\",\"val\"])):\n",
    "            images_file = path_sequence(images_path,c)\n",
    "            print(\"işleniyor: \", images_file)\n",
    "            image_names = os.listdir(images_file)\n",
    "\n",
    "            for im_name in image_names:\n",
    "                # frame\n",
    "                original_image = cv2.imread(path_sequence(images_file,im_name))\n",
    "                image = original_image.copy()\n",
    "                new_shape = get_new_shape(frame_width=image.shape[1],frame_height=image.shape[0],resize_shape=resize_shape)\n",
    "                new_image = cv2.resize(image,new_shape)\n",
    "                im_path = path_sequence(\".\",\"datasets\",new_ds_name,\"detect\",\"images\",c,im_name)\n",
    "                cv2.imwrite(im_path,new_image)\n",
    "\n",
    "\n",
    "\n",
    "        # etiketleri kopyala\n",
    "        labels_path = path_sequence(root,\"labels\")\n",
    "        os.removedirs(path_sequence(\".\",\"datasets\",new_ds_name,\"detect\",\"labels\",\"train\"))\n",
    "        os.removedirs(path_sequence(\".\",\"datasets\",new_ds_name,\"detect\",\"labels\",\"test\"))\n",
    "        os.removedirs(path_sequence(\".\",\"datasets\",new_ds_name,\"detect\",\"labels\",\"val\"))\n",
    "        shutil.copytree(labels_path,path_sequence(\".\",\"datasets\",new_ds_name,\"detect\",\"labels\"))\n",
    "        clear_output()\n",
    "else:\n",
    "    print(\"Yeniden boyutlandırma yok\")"
   ]
  },
  {
   "cell_type": "markdown",
   "id": "cacb1aea",
   "metadata": {},
   "source": [
    "#### uygulanan veri setlerinin eski ersiyonlarını logla\n"
   ]
  },
  {
   "cell_type": "code",
   "execution_count": 118,
   "id": "a0f34a06",
   "metadata": {},
   "outputs": [
    {
     "name": "stderr",
     "output_type": "stream",
     "text": [
      "100%|█████████████████████████████████████████████████████████████████████████████████| 24/24 [00:00<00:00, 519.22it/s]"
     ]
    },
    {
     "name": "stdout",
     "output_type": "stream",
     "text": [
      "resized\n",
      "resized\n",
      "resized\n",
      "resized\n",
      "resized\n",
      "resized\n",
      "resized\n",
      "resized\n",
      "resized\n",
      "resized\n",
      "resized\n",
      "resized\n"
     ]
    },
    {
     "name": "stderr",
     "output_type": "stream",
     "text": [
      "\n"
     ]
    }
   ],
   "source": [
    "for ds_name in tqdm(os.listdir(\"./datasets\")):\n",
    "    if ds_name.endswith(\"resized\"):\n",
    "        print(\"resized\")\n",
    "    else:\n",
    "        shutil.move(path_sequence(\".\",\"datasets\",ds_name),path_sequence(\".\",\"datasets_old\",ds_name))"
   ]
  },
  {
   "cell_type": "code",
   "execution_count": 116,
   "id": "82abcb2b",
   "metadata": {},
   "outputs": [
    {
     "data": {
      "text/plain": [
       "True"
      ]
     },
     "execution_count": 116,
     "metadata": {},
     "output_type": "execute_result"
    }
   ],
   "source": []
  },
  {
   "cell_type": "code",
   "execution_count": null,
   "id": "3702c8ec",
   "metadata": {},
   "outputs": [],
   "source": []
  }
 ],
 "metadata": {
  "kernelspec": {
   "display_name": "Python 3 (ipykernel)",
   "language": "python",
   "name": "python3"
  },
  "language_info": {
   "codemirror_mode": {
    "name": "ipython",
    "version": 3
   },
   "file_extension": ".py",
   "mimetype": "text/x-python",
   "name": "python",
   "nbconvert_exporter": "python",
   "pygments_lexer": "ipython3",
   "version": "3.9.16"
  }
 },
 "nbformat": 4,
 "nbformat_minor": 5
}
