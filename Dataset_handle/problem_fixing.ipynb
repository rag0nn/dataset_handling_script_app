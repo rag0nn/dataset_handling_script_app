{
 "cells": [
  {
   "cell_type": "code",
   "execution_count": 1,
   "id": "945bd3a3",
   "metadata": {},
   "outputs": [],
   "source": [
    "import cv2\n",
    "import numpy as np\n",
    "import os\n",
    "from tqdm import tqdm\n",
    "from IPython.display import clear_output\n",
    "import random"
   ]
  },
  {
   "cell_type": "code",
   "execution_count": 2,
   "id": "ba3b27d6",
   "metadata": {},
   "outputs": [],
   "source": [
    "label__dict = {\n",
    "    0:\"otomobil\",\n",
    "    1:\"motosiklet\",\n",
    "    2:\"otobüs\",\n",
    "    3:\"kamyon\",\n",
    "    4:\"diger\",\n",
    "    5:\"lokomotif\",\n",
    "    6:\"vagon\",\n",
    "    7:\"tramvay\",\n",
    "    8:\"monoray\",\n",
    "    9:\"feniküler\",\n",
    "    10:\"deniz tasiti\",\n",
    "    11:\"insan\",\n",
    "    12:\"uap\",\n",
    "    13:\"uai\",\n",
    "}"
   ]
  },
  {
   "cell_type": "code",
   "execution_count": 3,
   "id": "b9157ad8",
   "metadata": {},
   "outputs": [],
   "source": [
    "import tkinter as tk\n",
    "root = tk.Tk()\n",
    "screen_width = root.winfo_screenwidth()\n",
    "screen_height = root.winfo_screenheight()\n",
    "frame_display_size = (int(screen_width*0.8),int(screen_height*0.8))\n",
    "\n",
    "color1 = (100,100,255)\n",
    "color2 = (0,0,0)\n",
    "\n",
    "font = cv2.FONT_HERSHEY_DUPLEX\n"
   ]
  },
  {
   "cell_type": "code",
   "execution_count": 4,
   "id": "fd518de1",
   "metadata": {},
   "outputs": [],
   "source": [
    "def path_sequence(root,*directories):\n",
    "    seq = root\n",
    "    for directory in directories:\n",
    "        seq += f\"/{directory}\"\n",
    "    return seq\n",
    "\n",
    "\n",
    "def format_line(line):\n",
    "    words = line.split(\" \")\n",
    "    return int(words[0]),float(words[1]),float(words[2]),float(words[3]),float(words[4])\n",
    "\n",
    "def format_problem_line(line):\n",
    "    words = line.split(\" \")\n",
    "    return words[1],words[3],words[5][:-1]\n",
    "\n",
    "def remove_file(path):\n",
    "    if os.path.exists(path):\n",
    "        os.remove(path)\n",
    "    else:\n",
    "        print(\"belirtilen yolda dosya bulunamadı\")\n",
    "        "
   ]
  },
  {
   "cell_type": "code",
   "execution_count": 5,
   "id": "d4aa0d75",
   "metadata": {},
   "outputs": [],
   "source": [
    "frame_display_size = (int(screen_width*0.8),int(screen_height*0.8))\n",
    "\n",
    "color1 = (100,100,255)\n",
    "color2 = (0,0,0)\n",
    "\n",
    "font = cv2.FONT_HERSHEY_DUPLEX"
   ]
  },
  {
   "cell_type": "code",
   "execution_count": 6,
   "id": "90c71793",
   "metadata": {},
   "outputs": [],
   "source": [
    "remove_all = True"
   ]
  },
  {
   "cell_type": "code",
   "execution_count": 7,
   "id": "173c9eb4",
   "metadata": {},
   "outputs": [
    {
     "name": "stdout",
     "output_type": "stream",
     "text": [
      "15\n"
     ]
    },
    {
     "name": "stderr",
     "output_type": "stream",
     "text": [
      "15it [00:00, 15004.66it/s]"
     ]
    },
    {
     "name": "stdout",
     "output_type": "stream",
     "text": [
      "0 train ./datasets/visdrone/detect/images/train/9999955_00000_d_0000284.jpg ./datasets/visdrone/detect/labels/train/9999955_00000_d_0000284.txt\n",
      "belirtilen yolda dosya bulunamadı\n",
      "belirtilen yolda dosya bulunamadı\n",
      "1 train ./datasets/visdrone/detect/images/train/9999987_00000_d_0000006.jpg ./datasets/visdrone/detect/labels/train/9999987_00000_d_0000006.txt\n",
      "belirtilen yolda dosya bulunamadı\n",
      "belirtilen yolda dosya bulunamadı\n",
      "2 train ./datasets/visdrone/detect/images/train/9999955_00000_d_0000121.jpg ./datasets/visdrone/detect/labels/train/9999955_00000_d_0000121.txt\n",
      "belirtilen yolda dosya bulunamadı\n",
      "belirtilen yolda dosya bulunamadı\n",
      "3 train ./datasets/visdrone/detect/images/train/9999999_00271_d_0000118.jpg ./datasets/visdrone/detect/labels/train/9999999_00271_d_0000118.txt\n",
      "belirtilen yolda dosya bulunamadı\n",
      "belirtilen yolda dosya bulunamadı\n",
      "4 train ./datasets/visdrone/detect/images/train/9999964_00000_d_0000074.jpg ./datasets/visdrone/detect/labels/train/9999964_00000_d_0000074.txt\n",
      "belirtilen yolda dosya bulunamadı\n",
      "belirtilen yolda dosya bulunamadı\n",
      "5 train ./datasets/visdrone/detect/images/train/9999982_00000_d_0000215.jpg ./datasets/visdrone/detect/labels/train/9999982_00000_d_0000215.txt\n",
      "belirtilen yolda dosya bulunamadı\n",
      "belirtilen yolda dosya bulunamadı\n",
      "6 train ./datasets/visdrone/detect/images/train/9999955_00000_d_0000302.jpg ./datasets/visdrone/detect/labels/train/9999955_00000_d_0000302.txt\n",
      "belirtilen yolda dosya bulunamadı\n",
      "belirtilen yolda dosya bulunamadı\n",
      "7 train ./datasets/visdrone/detect/images/train/9999956_00000_d_0000054.jpg ./datasets/visdrone/detect/labels/train/9999956_00000_d_0000054.txt\n",
      "belirtilen yolda dosya bulunamadı\n",
      "belirtilen yolda dosya bulunamadı\n",
      "8 train ./datasets/visdrone/detect/images/train/9999955_00000_d_0000079.jpg ./datasets/visdrone/detect/labels/train/9999955_00000_d_0000079.txt\n",
      "belirtilen yolda dosya bulunamadı\n",
      "belirtilen yolda dosya bulunamadı\n",
      "9 train ./datasets/visdrone/detect/images/train/9999966_00000_d_0000071.jpg ./datasets/visdrone/detect/labels/train/9999966_00000_d_0000071.txt\n",
      "belirtilen yolda dosya bulunamadı\n",
      "belirtilen yolda dosya bulunamadı\n",
      "10 train ./datasets/visdrone/detect/images/train/9999945_00000_d_0000148.jpg ./datasets/visdrone/detect/labels/train/9999945_00000_d_0000148.txt\n",
      "belirtilen yolda dosya bulunamadı\n",
      "belirtilen yolda dosya bulunamadı\n",
      "11 train ./datasets/visdrone/detect/images/train/9999955_00000_d_0000352.jpg ./datasets/visdrone/detect/labels/train/9999955_00000_d_0000352.txt\n",
      "belirtilen yolda dosya bulunamadı\n",
      "belirtilen yolda dosya bulunamadı\n",
      "12 train ./datasets/visdrone/detect/images/train/9999953_00000_d_0000141.jpg ./datasets/visdrone/detect/labels/train/9999953_00000_d_0000141.txt\n",
      "belirtilen yolda dosya bulunamadı\n",
      "belirtilen yolda dosya bulunamadı\n",
      "13 train ./datasets/visdrone/detect/images/train/9999984_00000_d_0000150.jpg ./datasets/visdrone/detect/labels/train/9999984_00000_d_0000150.txt\n",
      "belirtilen yolda dosya bulunamadı\n",
      "belirtilen yolda dosya bulunamadı\n",
      "14 train ./datasets/visdrone/detect/images/train/9999984_00000_d_0000001.jpg ./datasets/visdrone/detect/labels/train/9999984_00000_d_0000001.txt\n",
      "belirtilen yolda dosya bulunamadı\n",
      "belirtilen yolda dosya bulunamadı\n"
     ]
    },
    {
     "name": "stderr",
     "output_type": "stream",
     "text": [
      "\n"
     ]
    }
   ],
   "source": [
    "## problemleri okuyalım\n",
    "p = open(\"problems.txt\")\n",
    "problems = p.readlines()\n",
    "p.close()\n",
    "\n",
    "cleaning_indexes = []\n",
    "print(len(problems))\n",
    "\n",
    "\n",
    "\n",
    "##  problemleri dolaşalım\n",
    "\n",
    "root = \"./datasets/visdrone/detect\" ## doldurulacak\n",
    "images_path = path_sequence(root,\"images\")\n",
    "labels_path = path_sequence(root,\"labels\")\n",
    "\n",
    "shown_counter = 0\n",
    "\n",
    "for problem_idx, problem in tqdm(enumerate(problems)):\n",
    "    cat,im_name,txt_name =format_problem_line(problem)\n",
    "    \n",
    "    im_path = path_sequence(images_path,cat,im_name)\n",
    "    lbl_path = path_sequence(labels_path,cat,txt_name)\n",
    "    \n",
    "    print(problem_idx,cat,im_path,lbl_path)\n",
    "    \n",
    "    if remove_all != True:\n",
    "        # frame\n",
    "        original_image = cv2.imread(im_path)\n",
    "        image = original_image.copy()\n",
    "\n",
    "        # etiketler\n",
    "        f = open(lbl_path,\"r\")\n",
    "        lines = f.readlines()\n",
    "        f.close()\n",
    "        for line in lines:\n",
    "            label, norm_center_x, norm_center_y, norm_width, norm_height = format_line(line)\n",
    "\n",
    "            width = image.shape[1] * norm_width\n",
    "            height = image.shape[0] * norm_height\n",
    "            x1 = int(image.shape[1]*norm_center_x) - int(width/2)\n",
    "            x2 = int(image.shape[1]*norm_center_x) + int(width/2)\n",
    "            y1 = int(image.shape[0]*norm_center_y) - int(height/2)\n",
    "            y2 = int(image.shape[0]*norm_center_y) + int(height/2)\n",
    "\n",
    "            # etiketleri çizdirelim\n",
    "            cv2.putText(image,f\"{label__dict[int(label)]}\",(x1+5,y1+15),font,0.55,color1)\n",
    "            cv2.rectangle(image,(x1,y1),(x2,y2),color1,2)\n",
    "            print(f\"{label}:{label__dict[int(label)]}\",norm_center_x,norm_center_y,norm_height,norm_height)\n",
    "\n",
    "\n",
    "         ## ekranda göster \n",
    "        image_ = cv2.resize(image,frame_display_size)\n",
    "\n",
    "        ## bilgi yazıları\n",
    "        cv2.putText(image_,str(shown_counter),(10,40),font,1.2,color2)\n",
    "        for i,text in enumerate([\"space:atla\",\"p:kaldir\",\"q:bitir\"]):\n",
    "            cv2.putText(image_,text,(10,image_.shape[0]-35*i-25),font,0.8,color2)\n",
    "\n",
    "        window_name = f\"{cat}  -  {im_name}  -  {txt_name}\"\n",
    "\n",
    "        cv2.namedWindow(window_name)\n",
    "        cv2.moveWindow(window_name,20,20)\n",
    "        cv2.imshow(window_name,image_)\n",
    "\n",
    "        key = cv2.waitKey(0)\n",
    "        if key == ord(\"q\"):\n",
    "            cv2.destroyAllWindows()\n",
    "            clear_output()\n",
    "            break\n",
    "        elif key == ord(\"p\"):\n",
    "            cleaning_indexes.append(problem_idx)\n",
    "            clear_output()\n",
    "            cv2.destroyAllWindows()\n",
    "\n",
    "            remove_file(im_path)\n",
    "            remove_file(lbl_path)\n",
    "            continue\n",
    "        elif key == ord(\" \"):\n",
    "            cv2.destroyAllWindows()\n",
    "            clear_output()\n",
    "            shown_counter+=1 \n",
    "            continue\n",
    "    else:\n",
    "        remove_file(im_path)\n",
    "        remove_file(lbl_path)\n",
    "        \n",
    "        \n",
    "## tamamlanan problemleri kaldıralım ve yazalım ve loglayalım\n",
    "logs = []\n",
    "for c_index in cleaning_indexes[::-1]:\n",
    "    log = problems.pop(c_index)\n",
    "    logs.append(log)\n",
    "    \n",
    "p = open(\"problems.txt\",\"w\")\n",
    "p.writelines(problems)\n",
    "p.close()\n",
    "\n",
    "p = open(\"handled_problems.txt\",\"a\")\n",
    "p.writelines(logs)\n",
    "p.close()"
   ]
  },
  {
   "cell_type": "code",
   "execution_count": 37,
   "id": "89dc9743",
   "metadata": {},
   "outputs": [
    {
     "name": "stdout",
     "output_type": "stream",
     "text": [
      "4\n",
      "['aerialMaritime train image: DJI_0260_JPG.rf.8a65e206c6c29ab774f8240f83387594.jpg txt: DJI_0260_JPG.rf.8a65e206c6c29ab774f8240f83387594.txt\\n', 'aerialMaritime train image: DJI_0260_JPG.rf.d96e4fa73edbce6fcfae2efa29bc0a30.jpg txt: DJI_0260_JPG.rf.d96e4fa73edbce6fcfae2efa29bc0a30.txt\\n', 'aerialMaritime train image: DJI_0261_JPG.rf.4a4237e833afa8352951c7cfb0d1c2f4.jpg txt: DJI_0261_JPG.rf.4a4237e833afa8352951c7cfb0d1c2f4.txt\\n', 'aerialMaritime train image: DJI_0261_JPG.rf.59b70123c75e6578da7f9af8e540f953.jpg txt: DJI_0261_JPG.rf.59b70123c75e6578da7f9af8e540f953.txt\\n']\n",
      "\n",
      "[]\n"
     ]
    }
   ],
   "source": [
    "print(len(problems))\n",
    "print(problems)\n",
    "print()\n",
    "print(logs)"
   ]
  },
  {
   "cell_type": "code",
   "execution_count": null,
   "id": "4a1219c8",
   "metadata": {},
   "outputs": [],
   "source": []
  },
  {
   "cell_type": "code",
   "execution_count": null,
   "id": "975d4914",
   "metadata": {},
   "outputs": [],
   "source": []
  },
  {
   "cell_type": "code",
   "execution_count": 27,
   "id": "674b5886",
   "metadata": {},
   "outputs": [
    {
     "data": {
      "text/plain": [
       "'./dataset Aerial Maritime/detect/labels/train/DJI_0258_JPG.rf.c9d34732d58ef73927f5d98d4045d420.tx'"
      ]
     },
     "execution_count": 27,
     "metadata": {},
     "output_type": "execute_result"
    }
   ],
   "source": [
    "lbl_path"
   ]
  },
  {
   "cell_type": "code",
   "execution_count": null,
   "id": "c5aea941",
   "metadata": {},
   "outputs": [],
   "source": []
  },
  {
   "cell_type": "code",
   "execution_count": null,
   "id": "99466cd2",
   "metadata": {},
   "outputs": [],
   "source": []
  },
  {
   "cell_type": "code",
   "execution_count": null,
   "id": "6cbbafc3",
   "metadata": {},
   "outputs": [],
   "source": []
  },
  {
   "cell_type": "code",
   "execution_count": null,
   "id": "a366ef37",
   "metadata": {},
   "outputs": [],
   "source": []
  },
  {
   "cell_type": "code",
   "execution_count": null,
   "id": "70550be2",
   "metadata": {},
   "outputs": [],
   "source": []
  },
  {
   "cell_type": "code",
   "execution_count": null,
   "id": "b9313c43",
   "metadata": {},
   "outputs": [],
   "source": []
  },
  {
   "cell_type": "code",
   "execution_count": null,
   "id": "8fcb2cbd",
   "metadata": {},
   "outputs": [],
   "source": []
  }
 ],
 "metadata": {
  "kernelspec": {
   "display_name": "Python 3 (ipykernel)",
   "language": "python",
   "name": "python3"
  },
  "language_info": {
   "codemirror_mode": {
    "name": "ipython",
    "version": 3
   },
   "file_extension": ".py",
   "mimetype": "text/x-python",
   "name": "python",
   "nbconvert_exporter": "python",
   "pygments_lexer": "ipython3",
   "version": "3.9.16"
  }
 },
 "nbformat": 4,
 "nbformat_minor": 5
}
